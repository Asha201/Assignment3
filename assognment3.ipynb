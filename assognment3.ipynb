{
 "cells": [
  {
   "cell_type": "code",
   "execution_count": null,
   "id": "007a6dce",
   "metadata": {},
   "outputs": [],
   "source": [
    "# Assignment3\n"
   ]
  },
  {
   "cell_type": "markdown",
   "id": "6cf36506",
   "metadata": {},
   "source": [
    "#Q 1. Why are functions advantageous to have in your programs?"
   ]
  },
  {
   "cell_type": "raw",
   "id": "c9b69486",
   "metadata": {},
   "source": [
    "Ans. Functions help us by breaking our program into smaller and modular chunks. This makes our programs more organized and manageable,  reduces the chances of code repetition and instead makes code reusable."
   ]
  },
  {
   "cell_type": "markdown",
   "id": "f5867735",
   "metadata": {},
   "source": [
    "#Q 2. When does the code in a function run: when it's specified or when it's called?"
   ]
  },
  {
   "cell_type": "raw",
   "id": "dac290a9",
   "metadata": {},
   "source": [
    "Ans. The code in a function run when it's called  \n",
    "A function can be called from anywhere after the function is defined. "
   ]
  },
  {
   "cell_type": "markdown",
   "id": "ff3ada3e",
   "metadata": {},
   "source": [
    "#Q 3. What statement creates a functionn?"
   ]
  },
  {
   "cell_type": "code",
   "execution_count": null,
   "id": "74c7da31",
   "metadata": {},
   "outputs": [],
   "source": [
    "Ans. TO create a function def keyword is used."
   ]
  },
  {
   "cell_type": "markdown",
   "id": "0afc60ae",
   "metadata": {},
   "source": [
    "#Q 4. What is the difference between a function and a function call?"
   ]
  },
  {
   "cell_type": "raw",
   "id": "7c19116b",
   "metadata": {},
   "source": [
    "Ans. A function is procedure to achieve a particular result while function call is using this function to achive that task."
   ]
  },
  {
   "cell_type": "markdown",
   "id": "d8c7f679",
   "metadata": {},
   "source": [
    "#Q 5. How many global scopes are there in a Python program? How many local scopes?"
   ]
  },
  {
   "cell_type": "raw",
   "id": "ad45d3b0",
   "metadata": {},
   "source": [
    "Ans. For  Python program, there can be only one global scope. The global scope is created once the program starts and gets destroyed with the termination of the python program.\n",
    "\n",
    "The local scope in a python program is defined for a block of code such as function. Each function in a python program has its own local scope in which all its variables  and object names are defined. \n"
   ]
  },
  {
   "cell_type": "markdown",
   "id": "af5c4550",
   "metadata": {},
   "source": [
    "#Q 6. What happens to variables in a local scope when the function call returns?"
   ]
  },
  {
   "cell_type": "raw",
   "id": "8660d832",
   "metadata": {},
   "source": [
    "Ans. The local scope of a function is loaded when the function is called by any other function. Once the function terminates, the local scope associated with it is also terminated.\n",
    "\n",
    "def add(num1, num2):\n",
    "    temp = num1 + num2\n",
    "\n",
    "    def print_sum():\n",
    "        print(temp)\n",
    "\n",
    "    return temp\n",
    "    \n",
    "    In the above program, variables num1, num2 and temp exist in the local scope of add() function. These names exists only till the function add() is being executed."
   ]
  },
  {
   "cell_type": "markdown",
   "id": "828f3a6d",
   "metadata": {},
   "source": [
    "#Q 7. What is the concept of a return value? Is it possible to have a return value in an expression?"
   ]
  },
  {
   "cell_type": "raw",
   "id": "7422e71a",
   "metadata": {},
   "source": [
    "Ans. A return statement is used to end the execution of the function call and “returns” the result to the caller. The statements after the return statements are not executed. \n",
    "yes, If the return statement is without any expression, then the special value None is returned. "
   ]
  },
  {
   "cell_type": "markdown",
   "id": "acd5307f",
   "metadata": {},
   "source": [
    "#Q 8. If a function does not have a return statement, what is the return value of a call to that function?"
   ]
  },
  {
   "cell_type": "code",
   "execution_count": null,
   "id": "eaed093c",
   "metadata": {},
   "outputs": [],
   "source": [
    "Ans. If there are no return statements, then it returns None.\n",
    " "
   ]
  },
  {
   "cell_type": "markdown",
   "id": "aa348e45",
   "metadata": {},
   "source": [
    "#Q 9. How do you make a function variable refer to the global variable?"
   ]
  },
  {
   "cell_type": "raw",
   "id": "e2d6eb8b",
   "metadata": {},
   "source": [
    "Ans. By using the global keyword to change a global variable value from inside a Python function. If we do not specify this, the function thinks that assignments and changes are made to the local variable itself. Thus, we get this error.\n",
    "\n",
    "Ex. x = 10\n",
    "def change():\n",
    "    global x\n",
    "    x = x + 12\n",
    "    print(x)\n",
    "\n",
    "change()"
   ]
  },
  {
   "cell_type": "markdown",
   "id": "0d14ad07",
   "metadata": {},
   "source": [
    "#Q 10. What is the data type of None?"
   ]
  },
  {
   "cell_type": "raw",
   "id": "ac686b83",
   "metadata": {},
   "source": [
    "Ans. None datatype doesn’t contain any value. None keyword is used to define a null variable or object. None keyword is immutable"
   ]
  },
  {
   "cell_type": "markdown",
   "id": "18a62aeb",
   "metadata": {},
   "source": [
    "#Q 11. What does the sentence import areallyourpetsnamederic do?"
   ]
  },
  {
   "cell_type": "raw",
   "id": "088ad7e5",
   "metadata": {},
   "source": [
    "Ans. The import statement imports a module named areallyourpetsnamederic.  This function can be called with spam.bacon ()."
   ]
  },
  {
   "cell_type": "markdown",
   "id": "8a628415",
   "metadata": {},
   "source": [
    "#Q 12. If you had a bacon() feature in a spam module, what would you call it after importing spam?"
   ]
  },
  {
   "cell_type": "raw",
   "id": "b34833f4",
   "metadata": {},
   "source": [
    "Ans.If we have bacon() funtion in spam module then first we need to import the module and then we need to import the funtion too. from spam import bacon This above code is used to import funtions from given module. And then we can use the imported funtion for our own utilities.\n",
    "\n",
    "bacon feature can be called using,\n",
    "spam.bacon()"
   ]
  },
  {
   "cell_type": "markdown",
   "id": "1af3d84a",
   "metadata": {},
   "source": [
    "#Q 13. What can you do to save a programme from crashing if it encounters an error?"
   ]
  },
  {
   "cell_type": "raw",
   "id": "ee231878",
   "metadata": {},
   "source": [
    "Ans. Error handling can be used to notify the user of why the error occurred and gracefully exit the process that caused the error.\n",
    "\n",
    "Error handling practices are\n",
    "Exception handling using try - except and try - except - finally\n",
    "Assertions\n"
   ]
  },
  {
   "cell_type": "markdown",
   "id": "2a7013cd",
   "metadata": {},
   "source": [
    "#Q 14. What is the purpose of the try clause? What is the purpose of the except clause?"
   ]
  },
  {
   "cell_type": "raw",
   "id": "5d3e0709",
   "metadata": {},
   "source": [
    "Ans. Try and Except statement is used to handle these errors within our code in Python. The try block is used to check some code for errors i.e the code inside the try block will execute when there is no error in the program. Whereas the code inside the except block will execute whenever the program encounters some error in the preceding try block.\n",
    "\n",
    "First, the try clause is executed i.e. the code between try and except clause.\n",
    "If there is no exception, then only the try clause will run, except the clause is finished.\n",
    "If any exception occurs, the try clause will be skipped and except clause will run.\n",
    "If any exception occurs, but the except clause within the code doesn’t handle it, it is passed on to the outer try statements. If the exception is left unhandled, then the execution stops.\n",
    "A try statement can have more than one except clause\n",
    " "
   ]
  },
  {
   "cell_type": "code",
   "execution_count": 1,
   "id": "efc64cac",
   "metadata": {},
   "outputs": [
    {
     "ename": "ZeroDivisionError",
     "evalue": "division by zero",
     "output_type": "error",
     "traceback": [
      "\u001b[1;31m---------------------------------------------------------------------------\u001b[0m",
      "\u001b[1;31mZeroDivisionError\u001b[0m                         Traceback (most recent call last)",
      "Input \u001b[1;32mIn [1]\u001b[0m, in \u001b[0;36m<cell line: 6>\u001b[1;34m()\u001b[0m\n\u001b[0;32m      3\u001b[0m \u001b[38;5;28;01mdef\u001b[39;00m \u001b[38;5;21mdivision\u001b[39m(x1, x2):\n\u001b[0;32m      4\u001b[0m     \u001b[38;5;28mprint\u001b[39m(x1\u001b[38;5;241m/\u001b[39mx2)\n\u001b[1;32m----> 6\u001b[0m \u001b[43mdivision\u001b[49m\u001b[43m(\u001b[49m\u001b[38;5;241;43m10\u001b[39;49m\u001b[43m,\u001b[49m\u001b[43m \u001b[49m\u001b[38;5;241;43m0\u001b[39;49m\u001b[43m)\u001b[49m\n",
      "Input \u001b[1;32mIn [1]\u001b[0m, in \u001b[0;36mdivision\u001b[1;34m(x1, x2)\u001b[0m\n\u001b[0;32m      3\u001b[0m \u001b[38;5;28;01mdef\u001b[39;00m \u001b[38;5;21mdivision\u001b[39m(x1, x2):\n\u001b[1;32m----> 4\u001b[0m     \u001b[38;5;28mprint\u001b[39m(\u001b[43mx1\u001b[49m\u001b[38;5;241;43m/\u001b[39;49m\u001b[43mx2\u001b[49m)\n",
      "\u001b[1;31mZeroDivisionError\u001b[0m: division by zero"
     ]
    }
   ],
   "source": [
    "# without using try/except\n",
    "\n",
    "def division(x1, x2):\n",
    "    print(x1/x2)\n",
    "    \n",
    "division(10, 0)"
   ]
  },
  {
   "cell_type": "code",
   "execution_count": 6,
   "id": "276f42cf",
   "metadata": {},
   "outputs": [
    {
     "name": "stdout",
     "output_type": "stream",
     "text": [
      "<class 'Exception'> division by zero\n"
     ]
    }
   ],
   "source": [
    "# Using try/except\n",
    "\n",
    "def division(x1, x2):\n",
    "    try:\n",
    "        print(x1/x2)\n",
    "    except Exception as e:\n",
    "        print(Exception, e)\n",
    "division(10, 0)"
   ]
  }
 ],
 "metadata": {
  "kernelspec": {
   "display_name": "Python 3 (ipykernel)",
   "language": "python",
   "name": "python3"
  },
  "language_info": {
   "codemirror_mode": {
    "name": "ipython",
    "version": 3
   },
   "file_extension": ".py",
   "mimetype": "text/x-python",
   "name": "python",
   "nbconvert_exporter": "python",
   "pygments_lexer": "ipython3",
   "version": "3.9.12"
  }
 },
 "nbformat": 4,
 "nbformat_minor": 5
}
